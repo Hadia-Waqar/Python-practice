{
  "nbformat": 4,
  "nbformat_minor": 0,
  "metadata": {
    "colab": {
      "provenance": [],
      "authorship_tag": "ABX9TyO49+XbrxX5pHg7Xfd1yiQl",
      "include_colab_link": true
    },
    "kernelspec": {
      "name": "python3",
      "display_name": "Python 3"
    },
    "language_info": {
      "name": "python"
    }
  },
  "cells": [
    {
      "cell_type": "markdown",
      "metadata": {
        "id": "view-in-github",
        "colab_type": "text"
      },
      "source": [
        "<a href=\"https://colab.research.google.com/github/Hadia-Waqar/Python-practice/blob/main/Python_basics.ipynb\" target=\"_parent\"><img src=\"https://colab.research.google.com/assets/colab-badge.svg\" alt=\"Open In Colab\"/></a>"
      ]
    },
    {
      "cell_type": "markdown",
      "source": [
        "Write a Python program to display the current date and time."
      ],
      "metadata": {
        "id": "gtsWLAXcBMsY"
      }
    },
    {
      "cell_type": "code",
      "execution_count": 1,
      "metadata": {
        "colab": {
          "base_uri": "https://localhost:8080/"
        },
        "id": "DLBORUZE0LS9",
        "outputId": "6000c461-d248-4826-bb8b-7e0d9dcb77e6"
      },
      "outputs": [
        {
          "output_type": "stream",
          "name": "stdout",
          "text": [
            "Current date and time\n",
            "2024-05-03 18-58-00\n"
          ]
        }
      ],
      "source": [
        "import datetime\n",
        "now = datetime.datetime.now()\n",
        "print(\"Current date and time\")\n",
        "print(now.strftime(\"%Y-%m-%d %H-%M-%S\"))"
      ]
    },
    {
      "cell_type": "markdown",
      "source": [
        "Write a Python program that calculates the area of a circle based on the radius entered by the user."
      ],
      "metadata": {
        "id": "Z3MR4MV3BGur"
      }
    },
    {
      "cell_type": "code",
      "source": [
        "from math import pi\n",
        "r = float(input(\"Input the radius of the circle : \"))\n",
        "area = pi * r ** 2\n",
        "print(\"The area of the circle with radius \" + str(r) + \" is: \" + str(area))"
      ],
      "metadata": {
        "colab": {
          "base_uri": "https://localhost:8080/"
        },
        "id": "0heCobMv0xlU",
        "outputId": "836abfdb-140a-4ff8-9e05-960f30f36d77"
      },
      "execution_count": 2,
      "outputs": [
        {
          "output_type": "stream",
          "name": "stdout",
          "text": [
            "Input the radius of the circle : 4\n",
            "The area of the circle with radius 4.0 is: 50.26548245743669\n"
          ]
        }
      ]
    },
    {
      "cell_type": "markdown",
      "source": [
        "Write a  Python program that accepts the user's first and last name and prints them in reverse order with a space between them."
      ],
      "metadata": {
        "id": "fhnsV_QqBCVO"
      }
    },
    {
      "cell_type": "code",
      "source": [
        "FirstName = input(\"Enter Your First Name:\")\n",
        "LastName = input(\"Enter Your Last Name: \")\n",
        "print (LastName + \" \" + FirstName)"
      ],
      "metadata": {
        "colab": {
          "base_uri": "https://localhost:8080/"
        },
        "id": "DWJGustC1Q4j",
        "outputId": "8a60e650-b009-4849-fcc5-0fc0bde9841a"
      },
      "execution_count": 3,
      "outputs": [
        {
          "output_type": "stream",
          "name": "stdout",
          "text": [
            "Enter Your First Name:Hadia\n",
            "Enter Your Last Name: Waqar\n",
            "Waqar Hadia\n"
          ]
        }
      ]
    },
    {
      "cell_type": "markdown",
      "source": [
        "Write a  Python program to display the first and last colors from the following list.\n",
        "color_list = [\"Red\",\"Green\",\"White\" ,\"Black\"]"
      ],
      "metadata": {
        "id": "HKKhFjdUBA_l"
      }
    },
    {
      "cell_type": "code",
      "source": [
        "color_list = [\"Red\", \"Green\", \"White\", \"Black\"]\n",
        "\n",
        "first_color = color_list[0]\n",
        "last_color = color_list[-1]\n",
        "\n",
        "print(\"First color:\", first_color)\n",
        "print(\"Last color:\", last_color)"
      ],
      "metadata": {
        "colab": {
          "base_uri": "https://localhost:8080/"
        },
        "id": "9X-c9Odl59sR",
        "outputId": "391048da-98cb-4e82-a7b0-b854d087f3ee"
      },
      "execution_count": 14,
      "outputs": [
        {
          "output_type": "stream",
          "name": "stdout",
          "text": [
            "First color: Red\n",
            "Last color: Black\n"
          ]
        }
      ]
    },
    {
      "cell_type": "markdown",
      "source": [
        "Write a Python program to calculate the sum of three given numbers. If the values are equal, return three times their sum."
      ],
      "metadata": {
        "id": "9Ir_7qIFB93E"
      }
    },
    {
      "cell_type": "code",
      "source": [
        "def sum_thrice(x, y, z):\n",
        "\n",
        "    sum = x + y + z\n",
        "\n",
        "    if x == y == z:\n",
        "        sum = sum * 3\n",
        "    return sum\n",
        "\n",
        "print(sum_thrice(1, 2, 3))\n",
        "print(sum_thrice(3, 3, 3))"
      ],
      "metadata": {
        "id": "STkm_uFRB1G0"
      },
      "execution_count": null,
      "outputs": []
    },
    {
      "cell_type": "markdown",
      "source": [
        "Write a Python program to display the examination schedule. (extract the date from exam_st_date).\n",
        "exam_st_date = (11, 12, 2014)"
      ],
      "metadata": {
        "id": "beJBoXxkAsAu"
      }
    },
    {
      "cell_type": "code",
      "source": [
        "exam_st_date = (11, 12, 2014)\n",
        "print(\"Examination will start from:\")\n",
        "print(exam_st_date  )"
      ],
      "metadata": {
        "colab": {
          "base_uri": "https://localhost:8080/"
        },
        "id": "Cxbv7ov96uei",
        "outputId": "b55f5aa1-cf0f-41d2-e073-ef6716adbdd8"
      },
      "execution_count": 21,
      "outputs": [
        {
          "output_type": "stream",
          "name": "stdout",
          "text": [
            "Examination will start from:\n",
            "(11, 12, 2014)\n"
          ]
        }
      ]
    },
    {
      "cell_type": "markdown",
      "source": [
        "Write a  Python program to find out what version of Python you are using."
      ],
      "metadata": {
        "id": "9cyEApRNAmnw"
      }
    },
    {
      "cell_type": "code",
      "source": [
        "import platform\n",
        "print(platform.python_version())"
      ],
      "metadata": {
        "id": "oPWA9QmlAWca"
      },
      "execution_count": null,
      "outputs": []
    },
    {
      "cell_type": "markdown",
      "source": [
        "Write a  Python program to print the following string in a specific format (see the output).\n",
        "Sample String : \"Twinkle, twinkle, little star, How I wonder what you are! Up above the world so high, Like a diamond in the sky. Twinkle, twinkle, little star, How I wonder what you are\""
      ],
      "metadata": {
        "id": "0Bqxob9QAkop"
      }
    },
    {
      "cell_type": "code",
      "source": [
        "print(\"Twinkle, twinkle, little star,\\n\\t How I wonder what you are\\n\\t\\t Up above the world so high,\\n\\t\\t Like a diamond in the Sky.\\nTwinkle, twinkle, little star,\\n\\t How I wonder what you are  \")"
      ],
      "metadata": {
        "id": "qTPl3gfhAfUf"
      },
      "execution_count": null,
      "outputs": []
    },
    {
      "cell_type": "markdown",
      "source": [
        "Write a Python program to print the following 'here document'.\n",
        "Sample string :\n",
        "a string that you \"don't\" have to escape\n",
        "This\n",
        "is a ....... multi-line\n",
        "heredoc string --------> example"
      ],
      "metadata": {
        "id": "0F7weAwSBbJz"
      }
    },
    {
      "cell_type": "code",
      "source": [
        "print(\"\"\"\n",
        "a string that you \"don't\" have to escape\n",
        "This\n",
        "is a  ....... multi-line\n",
        "heredoc string --------> example\n",
        "\"\"\")\n"
      ],
      "metadata": {
        "id": "CEd4x93FBYVy"
      },
      "execution_count": null,
      "outputs": []
    }
  ]
}